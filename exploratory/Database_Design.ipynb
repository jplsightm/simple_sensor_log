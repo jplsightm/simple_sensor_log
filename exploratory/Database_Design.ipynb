{
 "cells": [
  {
   "cell_type": "code",
   "execution_count": null,
   "metadata": {},
   "outputs": [],
   "source": [
    "import sys\n",
    "import psycopg2\n",
    "import pandas as pd"
   ]
  },
  {
   "cell_type": "markdown",
   "metadata": {},
   "source": [
    "## Requirements\n",
    "```\n",
    "pip install psycopg2-binary\n",
    "pip install pandas\n",
    "```\n",
    "\n",
    "## Objective\n",
    "\n",
    "Provide a simple database for logging machines data. This allows for the logging of machine data with a connector. This database is in a format that can be easily consumed by Sight Machine's AI data pipeline.\n",
    "\n",
    "## Limitations and Conciderations\n",
    "\n",
    "The schema provided is an event log of sensors being recorded. Therea are no assumptions around modeling of sensor names or validation of new sensors - that is left of the application code (and with the right amount of effort could be incorporated into this schema). It is also important to concider that we are using Postgres as our logging mechenism (and with this notebook Postgres on Docker). There are strategies to [increase write performance of Postgres](https://markandruth.co.uk/2016/01/08/how-we-tweaked-postgres-upsert-performance-to-be-2-3-faster-than-mongodb).\n",
    "\n",
    "## Warrenty and Support\n",
    "\n",
    "PROVIDED \"AS IS\", WITHOUT WARRANTY OF ANY KIND"
   ]
  },
  {
   "cell_type": "code",
   "execution_count": null,
   "metadata": {},
   "outputs": [],
   "source": [
    "print('Python Version:')\n",
    "print(sys.version)\n",
    "print('-'*80)\n",
    "print('psycopg2 version:')\n",
    "print(psycopg2.__version__)\n",
    "print('-'*80)\n",
    "print('pandas version:')\n",
    "print(pd.__version__)\n",
    "print('-'*80)"
   ]
  },
  {
   "cell_type": "markdown",
   "metadata": {},
   "source": [
    "## CHANGE ME\n",
    "This is the host IP that the docker container is running on:"
   ]
  },
  {
   "cell_type": "code",
   "execution_count": null,
   "metadata": {},
   "outputs": [],
   "source": [
    "hostname = \"10.211.55.27\""
   ]
  },
  {
   "cell_type": "code",
   "execution_count": null,
   "metadata": {},
   "outputs": [],
   "source": [
    "conn = psycopg2.connect(host=hostname,database=\"simple_tag_logging\", user=\"postgres\", password=\"postgres\")"
   ]
  },
  {
   "cell_type": "code",
   "execution_count": null,
   "metadata": {},
   "outputs": [],
   "source": [
    "cur = conn.cursor()"
   ]
  },
  {
   "cell_type": "code",
   "execution_count": null,
   "metadata": {},
   "outputs": [],
   "source": [
    "DROP = True"
   ]
  },
  {
   "cell_type": "code",
   "execution_count": null,
   "metadata": {},
   "outputs": [],
   "source": [
    "if DROP:\n",
    "    cur.execute(\"\"\"DROP TABLE IF EXISTS tag_values;\"\"\")\n",
    "    DROP = False\n",
    "cur.execute(\"\"\"\n",
    "    CREATE TABLE IF NOT EXISTS tag_values\n",
    "        (\n",
    "            id SERIAL PRIMARY KEY,\n",
    "            read_time TIMESTAMP NOT NULL,\n",
    "            sensor_name TEXT NOT NULL,\n",
    "            sensor_value VARCHAR(300) NOT NULL,\n",
    "            sensor_location VARCHAR(80),\n",
    "            sensor_datatype VARCHAR(80)\n",
    "        );\n",
    "\"\"\")"
   ]
  },
  {
   "cell_type": "code",
   "execution_count": null,
   "metadata": {},
   "outputs": [],
   "source": [
    "cur.execute(\"CREATE INDEX tag_read_time ON tag_values(read_time DESC);\")"
   ]
  },
  {
   "cell_type": "code",
   "execution_count": null,
   "metadata": {},
   "outputs": [],
   "source": [
    "conn.commit()\n",
    "cur.close()"
   ]
  },
  {
   "cell_type": "code",
   "execution_count": null,
   "metadata": {},
   "outputs": [],
   "source": [
    "pd.read_sql(\"SELECT * FROM information_schema.tables WHERE table_schema='public'\", conn)"
   ]
  },
  {
   "cell_type": "code",
   "execution_count": null,
   "metadata": {},
   "outputs": [],
   "source": [
    "pd.read_sql(\"\"\"SELECT *, pg_size_pretty(pg_relation_size(indexrelname::text))\n",
    "    FROM pg_stat_all_indexes \n",
    "    WHERE schemaname = 'public'\"\"\", conn)"
   ]
  },
  {
   "cell_type": "code",
   "execution_count": null,
   "metadata": {},
   "outputs": [],
   "source": []
  }
 ],
 "metadata": {
  "kernelspec": {
   "display_name": "Python 3",
   "language": "python",
   "name": "python3"
  },
  "language_info": {
   "codemirror_mode": {
    "name": "ipython",
    "version": 3
   },
   "file_extension": ".py",
   "mimetype": "text/x-python",
   "name": "python",
   "nbconvert_exporter": "python",
   "pygments_lexer": "ipython3",
   "version": "3.5.2"
  }
 },
 "nbformat": 4,
 "nbformat_minor": 2
}
